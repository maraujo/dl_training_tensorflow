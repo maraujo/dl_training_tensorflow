{
 "nbformat": 4,
 "nbformat_minor": 2,
 "metadata": {
  "language_info": {
   "name": "python",
   "codemirror_mode": {
    "name": "ipython",
    "version": 3
   },
   "version": "3.7.4-final"
  },
  "orig_nbformat": 2,
  "file_extension": ".py",
  "mimetype": "text/x-python",
  "name": "python",
  "npconvert_exporter": "python",
  "pygments_lexer": "ipython3",
  "version": 3,
  "kernelspec": {
   "name": "python3",
   "display_name": "Python 3"
  }
 },
 "cells": [
  {
   "cell_type": "code",
   "execution_count": 3,
   "metadata": {},
   "outputs": [],
   "source": [
    "from __future__ import absolute_import, division, print_function, unicode_literals\n",
    "import tensorflow as tf\n",
    "import numpy as np\n",
    "from tensorflow.python.client import device_lib\n",
    "import  tensorflow.keras as keras"
   ]
  },
  {
   "cell_type": "code",
   "execution_count": 4,
   "metadata": {},
   "outputs": [
    {
     "output_type": "stream",
     "name": "stdout",
     "text": "Num GPUs Available:  0\nWARNING:tensorflow:From <ipython-input-4-47db35cadfcd>:2: is_gpu_available (from tensorflow.python.framework.test_util) is deprecated and will be removed in a future version.\nInstructions for updating:\nUse `tf.config.list_physical_devices('GPU')` instead.\n2.1.0\n"
    }
   ],
   "source": [
    "print(\"Num GPUs Available: \", len(tf.config.experimental.list_physical_devices('GPU')))\n",
    "tf.test.is_gpu_available()\n",
    "tf.debugging.set_log_device_placement(False)\n",
    "print(tf.__version__)"
   ]
  },
  {
   "cell_type": "code",
   "execution_count": 81,
   "metadata": {},
   "outputs": [
    {
     "output_type": "error",
     "ename": "ModuleNotFoundError",
     "evalue": "No module named 'tensorflow.keras.backend.tensorflow_backend'",
     "traceback": [
      "\u001b[0;31m---------------------------------------------------------------------------\u001b[0m",
      "\u001b[0;31mModuleNotFoundError\u001b[0m                       Traceback (most recent call last)",
      "\u001b[0;32m<ipython-input-81-3fd1b9844edd>\u001b[0m in \u001b[0;36m<module>\u001b[0;34m\u001b[0m\n\u001b[0;32m----> 1\u001b[0;31m \u001b[0;32mfrom\u001b[0m \u001b[0mtensorflow\u001b[0m\u001b[0;34m.\u001b[0m\u001b[0mkeras\u001b[0m\u001b[0;34m.\u001b[0m\u001b[0mbackend\u001b[0m\u001b[0;34m.\u001b[0m\u001b[0mtensorflow_backend\u001b[0m \u001b[0;32mimport\u001b[0m \u001b[0mset_session\u001b[0m\u001b[0;34m\u001b[0m\u001b[0;34m\u001b[0m\u001b[0m\n\u001b[0m\u001b[1;32m      2\u001b[0m \u001b[0;32mfrom\u001b[0m \u001b[0mtensorflow\u001b[0m\u001b[0;34m.\u001b[0m\u001b[0mkeras\u001b[0m\u001b[0;34m.\u001b[0m\u001b[0mbackend\u001b[0m\u001b[0;34m.\u001b[0m\u001b[0mtensorflow_backend\u001b[0m \u001b[0;32mimport\u001b[0m \u001b[0mclear_session\u001b[0m\u001b[0;34m\u001b[0m\u001b[0;34m\u001b[0m\u001b[0m\n\u001b[1;32m      3\u001b[0m \u001b[0;32mfrom\u001b[0m \u001b[0mtensorflow\u001b[0m\u001b[0;34m.\u001b[0m\u001b[0mkeras\u001b[0m\u001b[0;34m.\u001b[0m\u001b[0mbackend\u001b[0m\u001b[0;34m.\u001b[0m\u001b[0mtensorflow_backend\u001b[0m \u001b[0;32mimport\u001b[0m \u001b[0mget_session\u001b[0m\u001b[0;34m\u001b[0m\u001b[0;34m\u001b[0m\u001b[0m\n\u001b[1;32m      4\u001b[0m \u001b[0;34m\u001b[0m\u001b[0m\n\u001b[1;32m      5\u001b[0m \u001b[0;31m# Reset Keras Session\u001b[0m\u001b[0;34m\u001b[0m\u001b[0;34m\u001b[0m\u001b[0;34m\u001b[0m\u001b[0m\n",
      "\u001b[0;31mModuleNotFoundError\u001b[0m: No module named 'tensorflow.keras.backend.tensorflow_backend'"
     ]
    }
   ],
   "source": []
  },
  {
   "cell_type": "code",
   "execution_count": 5,
   "metadata": {},
   "outputs": [],
   "source": [
    "def generate_time_series(batch_size, n_steps):\n",
    "    freq1, freq2, offset1, offset2 = np.random.rand(4, batch_size, 1)\n",
    "    time = np.linspace(0, 1, n_steps)\n",
    "    series = 0.5 * np.sin((time - offset1) * (freq1 * 10 + 10))\n",
    "    series += 0.2 * np.sin((time - offset2) * (freq2 * 20 + 20))\n",
    "    series += 0.1 * (np.random.rand(batch_size, n_steps) - 0.5)\n",
    "    return series[..., np.newaxis].astype(np.float32)\n",
    "n_steps = 50\n",
    ""
   ]
  },
  {
   "cell_type": "markdown",
   "metadata": {},
   "source": [
    "# One Step Ahead"
   ]
  },
  {
   "cell_type": "code",
   "execution_count": 5,
   "metadata": {},
   "outputs": [],
   "source": [
    "series = generate_time_series(10000, n_steps + 1)\n",
    "X_train, y_train = series[:7000, :n_steps], series[:7000, -1]\n",
    "X_valid, y_valid = series[7000:9000, : n_steps], series[7000:9000, -1]\n",
    "X_test, y_test = series[9000:, : n_steps], series[9000:, -1]\n"
   ]
  },
  {
   "cell_type": "code",
   "execution_count": 6,
   "metadata": {},
   "outputs": [
    {
     "output_type": "execute_result",
     "data": {
      "text/plain": "0.020337647"
     },
     "metadata": {},
     "execution_count": 6
    }
   ],
   "source": [
    "# Predicting last value as baseline\n",
    "y_pred = X_valid[:, -1]\n",
    "np.mean( keras.losses.mean_squared_error(y_valid, y_pred))"
   ]
  },
  {
   "cell_type": "code",
   "execution_count": 7,
   "metadata": {},
   "outputs": [
    {
     "output_type": "stream",
     "name": "stdout",
     "text": "Epoch 1/20\nWARNING:tensorflow:AutoGraph could not transform <function Model.make_train_function.<locals>.train_function at 0x7f88980d9ef0> and will run it as-is.\nPlease report this to the TensorFlow team. When filing the bug, set the verbosity to 10 (on Linux, `export AUTOGRAPH_VERBOSITY=10`) and attach the full output.\nCause: Bad argument number for Name: 4, expecting 3\nTo silence this warning, decorate the function with @tf.autograph.experimental.do_not_convert\nWARNING: AutoGraph could not transform <function Model.make_train_function.<locals>.train_function at 0x7f88980d9ef0> and will run it as-is.\nPlease report this to the TensorFlow team. When filing the bug, set the verbosity to 10 (on Linux, `export AUTOGRAPH_VERBOSITY=10`) and attach the full output.\nCause: Bad argument number for Name: 4, expecting 3\nTo silence this warning, decorate the function with @tf.autograph.experimental.do_not_convert\n700/700 [==============================] - 1s 1ms/step - loss: 0.0814 - mean_squared_error: 0.0814\nEpoch 2/20\n700/700 [==============================] - 1s 1ms/step - loss: 0.0123 - mean_squared_error: 0.0123\nEpoch 3/20\n700/700 [==============================] - 1s 1ms/step - loss: 0.0085 - mean_squared_error: 0.0085\nEpoch 4/20\n700/700 [==============================] - 1s 1ms/step - loss: 0.0068 - mean_squared_error: 0.0068\nEpoch 5/20\n700/700 [==============================] - 1s 1ms/step - loss: 0.0057 - mean_squared_error: 0.0057\nEpoch 6/20\n700/700 [==============================] - 1s 1ms/step - loss: 0.0051 - mean_squared_error: 0.0051\nEpoch 7/20\n700/700 [==============================] - 1s 1ms/step - loss: 0.0047 - mean_squared_error: 0.0047\nEpoch 8/20\n700/700 [==============================] - 1s 1ms/step - loss: 0.0045 - mean_squared_error: 0.0045\nEpoch 9/20\n700/700 [==============================] - 1s 1ms/step - loss: 0.0043 - mean_squared_error: 0.0043\nEpoch 10/20\n700/700 [==============================] - 1s 1ms/step - loss: 0.0041 - mean_squared_error: 0.0041\nEpoch 11/20\n700/700 [==============================] - 1s 1ms/step - loss: 0.0039 - mean_squared_error: 0.0039\nEpoch 12/20\n700/700 [==============================] - 1s 1ms/step - loss: 0.0038 - mean_squared_error: 0.0038\nEpoch 13/20\n700/700 [==============================] - 1s 1ms/step - loss: 0.0037 - mean_squared_error: 0.0037\nEpoch 14/20\n700/700 [==============================] - 1s 1ms/step - loss: 0.0036 - mean_squared_error: 0.0036\nEpoch 15/20\n700/700 [==============================] - 1s 1ms/step - loss: 0.0035 - mean_squared_error: 0.0035\nEpoch 16/20\n700/700 [==============================] - 1s 1ms/step - loss: 0.0034 - mean_squared_error: 0.0034\nEpoch 17/20\n700/700 [==============================] - 1s 1ms/step - loss: 0.0034 - mean_squared_error: 0.0034\nEpoch 18/20\n700/700 [==============================] - 1s 1ms/step - loss: 0.0033 - mean_squared_error: 0.0033\nEpoch 19/20\n700/700 [==============================] - 1s 1ms/step - loss: 0.0033 - mean_squared_error: 0.0033\nEpoch 20/20\n700/700 [==============================] - 1s 1ms/step - loss: 0.0033 - mean_squared_error: 0.0033\n"
    },
    {
     "output_type": "execute_result",
     "data": {
      "text/plain": "<tensorflow.python.keras.callbacks.History at 0x7f88980ac4d0>"
     },
     "metadata": {},
     "execution_count": 7
    }
   ],
   "source": [
    "dense_model = keras.models.Sequential([\n",
    "    keras.layers.Flatten(input_shape=[50,1]),\n",
    "    keras.layers.Dense(1)\n",
    "])\n",
    "dense_model.compile(loss='mean_squared_error', optimizer='adam', metrics=['mean_squared_error'])\n",
    "dense_model.fit(X_train, y_train, epochs=20, batch_size=10)"
   ]
  },
  {
   "cell_type": "code",
   "execution_count": 8,
   "metadata": {},
   "outputs": [
    {
     "output_type": "stream",
     "name": "stdout",
     "text": "WARNING:tensorflow:AutoGraph could not transform <function Model.make_test_function.<locals>.test_function at 0x7f889021bd40> and will run it as-is.\nPlease report this to the TensorFlow team. When filing the bug, set the verbosity to 10 (on Linux, `export AUTOGRAPH_VERBOSITY=10`) and attach the full output.\nCause: Bad argument number for Name: 4, expecting 3\nTo silence this warning, decorate the function with @tf.autograph.experimental.do_not_convert\nWARNING: AutoGraph could not transform <function Model.make_test_function.<locals>.test_function at 0x7f889021bd40> and will run it as-is.\nPlease report this to the TensorFlow team. When filing the bug, set the verbosity to 10 (on Linux, `export AUTOGRAPH_VERBOSITY=10`) and attach the full output.\nCause: Bad argument number for Name: 4, expecting 3\nTo silence this warning, decorate the function with @tf.autograph.experimental.do_not_convert\n63/63 [==============================] - 0s 1ms/step - loss: 0.0033 - mean_squared_error: 0.0033\nMSE: 0.003315301612019539\n"
    }
   ],
   "source": [
    "_, mse = dense_model.evaluate(X_valid, y_valid)\n",
    "print(\"MSE: {}\".format(mse))"
   ]
  },
  {
   "cell_type": "code",
   "execution_count": 33,
   "metadata": {},
   "outputs": [
    {
     "output_type": "stream",
     "name": "stdout",
     "text": "Epoch 1/20\nWARNING:tensorflow:AutoGraph could not transform <function Model.make_train_function.<locals>.train_function at 0x7f877e1de5f0> and will run it as-is.\nPlease report this to the TensorFlow team. When filing the bug, set the verbosity to 10 (on Linux, `export AUTOGRAPH_VERBOSITY=10`) and attach the full output.\nCause: Bad argument number for Name: 4, expecting 3\nTo silence this warning, decorate the function with @tf.autograph.experimental.do_not_convert\nWARNING: AutoGraph could not transform <function Model.make_train_function.<locals>.train_function at 0x7f877e1de5f0> and will run it as-is.\nPlease report this to the TensorFlow team. When filing the bug, set the verbosity to 10 (on Linux, `export AUTOGRAPH_VERBOSITY=10`) and attach the full output.\nCause: Bad argument number for Name: 4, expecting 3\nTo silence this warning, decorate the function with @tf.autograph.experimental.do_not_convert\n700/700 [==============================] - 10s 14ms/step - loss: 0.1460 - mean_squared_error: 0.1460\nEpoch 2/20\n700/700 [==============================] - 10s 14ms/step - loss: 0.0883 - mean_squared_error: 0.0883\nEpoch 3/20\n700/700 [==============================] - 10s 14ms/step - loss: 0.0433 - mean_squared_error: 0.0433\nEpoch 4/20\n700/700 [==============================] - 10s 14ms/step - loss: 0.0295 - mean_squared_error: 0.0295\nEpoch 5/20\n700/700 [==============================] - 10s 14ms/step - loss: 0.0225 - mean_squared_error: 0.0225\nEpoch 6/20\n700/700 [==============================] - 10s 14ms/step - loss: 0.0182 - mean_squared_error: 0.0182\nEpoch 7/20\n700/700 [==============================] - 10s 14ms/step - loss: 0.0154 - mean_squared_error: 0.0154\nEpoch 8/20\n700/700 [==============================] - 10s 14ms/step - loss: 0.0135 - mean_squared_error: 0.0135\nEpoch 9/20\n700/700 [==============================] - 10s 14ms/step - loss: 0.0122 - mean_squared_error: 0.0122\nEpoch 10/20\n700/700 [==============================] - 10s 14ms/step - loss: 0.0116 - mean_squared_error: 0.0116\nEpoch 11/20\n700/700 [==============================] - 10s 14ms/step - loss: 0.0113 - mean_squared_error: 0.0113\nEpoch 12/20\n700/700 [==============================] - 10s 14ms/step - loss: 0.0113 - mean_squared_error: 0.0113\nEpoch 13/20\n700/700 [==============================] - 10s 14ms/step - loss: 0.0113 - mean_squared_error: 0.0113\nEpoch 14/20\n700/700 [==============================] - 10s 14ms/step - loss: 0.0113 - mean_squared_error: 0.0113\nEpoch 15/20\n700/700 [==============================] - 10s 15ms/step - loss: 0.0113 - mean_squared_error: 0.0113\nEpoch 16/20\n700/700 [==============================] - 10s 14ms/step - loss: 0.0113 - mean_squared_error: 0.0113\nEpoch 17/20\n700/700 [==============================] - 10s 14ms/step - loss: 0.0113 - mean_squared_error: 0.0113\nEpoch 18/20\n700/700 [==============================] - 10s 14ms/step - loss: 0.0113 - mean_squared_error: 0.0113\nEpoch 19/20\n700/700 [==============================] - 10s 14ms/step - loss: 0.0113 - mean_squared_error: 0.0113\nEpoch 20/20\n700/700 [==============================] - 10s 15ms/step - loss: 0.0113 - mean_squared_error: 0.0113\n"
    },
    {
     "output_type": "execute_result",
     "data": {
      "text/plain": "<tensorflow.python.keras.callbacks.History at 0x7f877c2ce990>"
     },
     "metadata": {},
     "execution_count": 33
    }
   ],
   "source": [
    "modelSimpleRNN = keras.models.Sequential([\n",
    "    keras.layers.SimpleRNN(1, input_shape=[None, 1])\n",
    "    ])\n",
    "modelSimpleRNN.compile(loss='mean_squared_error', optimizer='adam', metrics=['mean_squared_error'])\n",
    "modelSimpleRNN.fit(X_train, y_train, epochs=20, batch_size=10)"
   ]
  },
  {
   "cell_type": "code",
   "execution_count": 10,
   "metadata": {},
   "outputs": [
    {
     "output_type": "stream",
     "name": "stdout",
     "text": "WARNING:tensorflow:AutoGraph could not transform <function Model.make_test_function.<locals>.test_function at 0x7f88980d9200> and will run it as-is.\nPlease report this to the TensorFlow team. When filing the bug, set the verbosity to 10 (on Linux, `export AUTOGRAPH_VERBOSITY=10`) and attach the full output.\nCause: Bad argument number for Name: 4, expecting 3\nTo silence this warning, decorate the function with @tf.autograph.experimental.do_not_convert\nWARNING: AutoGraph could not transform <function Model.make_test_function.<locals>.test_function at 0x7f88980d9200> and will run it as-is.\nPlease report this to the TensorFlow team. When filing the bug, set the verbosity to 10 (on Linux, `export AUTOGRAPH_VERBOSITY=10`) and attach the full output.\nCause: Bad argument number for Name: 4, expecting 3\nTo silence this warning, decorate the function with @tf.autograph.experimental.do_not_convert\n63/63 [==============================] - 0s 4ms/step - loss: 0.1308 - mean_squared_error: 0.1310\nMSE: 0.13100022077560425\n"
    }
   ],
   "source": [
    "_, mse = modelSimpleRNN.evaluate(X_valid, y_valid)\n",
    "print(\"MSE: {}\".format(mse))"
   ]
  },
  {
   "cell_type": "code",
   "execution_count": 34,
   "metadata": {},
   "outputs": [
    {
     "output_type": "stream",
     "name": "stdout",
     "text": "Epoch 1/20\nWARNING:tensorflow:AutoGraph could not transform <function Model.make_train_function.<locals>.train_function at 0x7f877ce41680> and will run it as-is.\nPlease report this to the TensorFlow team. When filing the bug, set the verbosity to 10 (on Linux, `export AUTOGRAPH_VERBOSITY=10`) and attach the full output.\nCause: Bad argument number for Name: 4, expecting 3\nTo silence this warning, decorate the function with @tf.autograph.experimental.do_not_convert\nWARNING: AutoGraph could not transform <function Model.make_train_function.<locals>.train_function at 0x7f877ce41680> and will run it as-is.\nPlease report this to the TensorFlow team. When filing the bug, set the verbosity to 10 (on Linux, `export AUTOGRAPH_VERBOSITY=10`) and attach the full output.\nCause: Bad argument number for Name: 4, expecting 3\nTo silence this warning, decorate the function with @tf.autograph.experimental.do_not_convert\n700/700 [==============================] - 35s 50ms/step - loss: 0.0103 - mean_squared_error: 0.0103\nEpoch 2/20\n700/700 [==============================] - 35s 50ms/step - loss: 0.0036 - mean_squared_error: 0.0036\nEpoch 3/20\n700/700 [==============================] - 35s 50ms/step - loss: 0.0034 - mean_squared_error: 0.0034\nEpoch 4/20\n700/700 [==============================] - 35s 50ms/step - loss: 0.0033 - mean_squared_error: 0.0033\nEpoch 5/20\n700/700 [==============================] - 35s 50ms/step - loss: 0.0032 - mean_squared_error: 0.0032\nEpoch 6/20\n700/700 [==============================] - 35s 50ms/step - loss: 0.0032 - mean_squared_error: 0.0032\nEpoch 7/20\n700/700 [==============================] - 35s 50ms/step - loss: 0.0031 - mean_squared_error: 0.0031\nEpoch 8/20\n700/700 [==============================] - 35s 50ms/step - loss: 0.0031 - mean_squared_error: 0.0031\nEpoch 9/20\n700/700 [==============================] - 35s 50ms/step - loss: 0.0030 - mean_squared_error: 0.0030\nEpoch 10/20\n700/700 [==============================] - 35s 50ms/step - loss: 0.0030 - mean_squared_error: 0.0030\nEpoch 11/20\n700/700 [==============================] - 35s 50ms/step - loss: 0.0030 - mean_squared_error: 0.0030\nEpoch 12/20\n700/700 [==============================] - 35s 50ms/step - loss: 0.0029 - mean_squared_error: 0.0029\nEpoch 13/20\n700/700 [==============================] - 35s 50ms/step - loss: 0.0029 - mean_squared_error: 0.0029\nEpoch 14/20\n700/700 [==============================] - 35s 50ms/step - loss: 0.0028 - mean_squared_error: 0.0028\nEpoch 15/20\n700/700 [==============================] - 35s 50ms/step - loss: 0.0027 - mean_squared_error: 0.0027\nEpoch 16/20\n700/700 [==============================] - 35s 50ms/step - loss: 0.0027 - mean_squared_error: 0.0027\nEpoch 17/20\n700/700 [==============================] - 35s 50ms/step - loss: 0.0026 - mean_squared_error: 0.0026\nEpoch 18/20\n700/700 [==============================] - 35s 50ms/step - loss: 0.0026 - mean_squared_error: 0.0026\nEpoch 19/20\n700/700 [==============================] - 35s 50ms/step - loss: 0.0026 - mean_squared_error: 0.0026\nEpoch 20/20\n700/700 [==============================] - 35s 50ms/step - loss: 0.0026 - mean_squared_error: 0.0026\n"
    },
    {
     "output_type": "execute_result",
     "data": {
      "text/plain": "<tensorflow.python.keras.callbacks.History at 0x7f877ce4af10>"
     },
     "metadata": {},
     "execution_count": 34
    }
   ],
   "source": [
    "modelDeeperRNN = keras.models.Sequential([\n",
    "    keras.layers.SimpleRNN(20, return_sequences=True, input_shape=[None, 1]),\n",
    "    keras.layers.SimpleRNN(20, return_sequences=True),\n",
    "    keras.layers.SimpleRNN(1)\n",
    "    ])\n",
    "modelDeeperRNN.compile(loss='mean_squared_error', optimizer='adam', metrics=['mean_squared_error'])\n",
    "modelDeeperRNN.fit(X_train, y_train, epochs=20, batch_size=10)"
   ]
  },
  {
   "cell_type": "code",
   "execution_count": 37,
   "metadata": {},
   "outputs": [
    {
     "output_type": "stream",
     "name": "stdout",
     "text": "WARNING:tensorflow:AutoGraph could not transform <function Model.make_test_function.<locals>.test_function at 0x7f877cb44d40> and will run it as-is.\nPlease report this to the TensorFlow team. When filing the bug, set the verbosity to 10 (on Linux, `export AUTOGRAPH_VERBOSITY=10`) and attach the full output.\nCause: Bad argument number for Name: 4, expecting 3\nTo silence this warning, decorate the function with @tf.autograph.experimental.do_not_convert\nWARNING: AutoGraph could not transform <function Model.make_test_function.<locals>.test_function at 0x7f877cb44d40> and will run it as-is.\nPlease report this to the TensorFlow team. When filing the bug, set the verbosity to 10 (on Linux, `export AUTOGRAPH_VERBOSITY=10`) and attach the full output.\nCause: Bad argument number for Name: 4, expecting 3\nTo silence this warning, decorate the function with @tf.autograph.experimental.do_not_convert\n32/32 [==============================] - 0s 11ms/step - loss: 0.0026 - mean_squared_error: 0.0026\nMSE: 0.0026213224045932293\n"
    }
   ],
   "source": [
    "_, mse = modelDeeperRNN.evaluate(X_test, y_test)\n",
    "print(\"MSE: {}\".format(mse))"
   ]
  },
  {
   "cell_type": "markdown",
   "metadata": {},
   "source": [
    "# Multiple steps ahead"
   ]
  },
  {
   "cell_type": "code",
   "execution_count": 70,
   "metadata": {},
   "outputs": [
    {
     "output_type": "execute_result",
     "data": {
      "text/plain": "0.027954306"
     },
     "metadata": {},
     "execution_count": 70
    }
   ],
   "source": [
    "from sklearn.metrics import mean_squared_error\n",
    "mse = tf.keras.losses.MeanSquaredError()\n",
    "series = generate_time_series(1, n_steps + 10)\n",
    "X_new, Y_new = series[:, :n_steps], series[:, n_steps:]\n",
    "X = X_new\n",
    "for step_ahead in range(10):\n",
    "    y_pred_one = modelDeeperRNN.predict(X[:, step_ahead:])[:,np.newaxis,:]\n",
    "    X = np.concatenate([X, y_pred_one], axis=1)\n",
    "Y_pred = X[: , n_steps:]\n",
    "mse(Y_new, Y_pred).numpy()\n",
    ""
   ]
  },
  {
   "cell_type": "code",
   "execution_count": 6,
   "metadata": {},
   "outputs": [],
   "source": [
    "series = generate_time_series(10000, n_steps + 10)\n",
    "X_train, Y_train = series[:7000, :n_steps], series[:7000, -10:, 0]\n",
    "X_valid, Y_valid = series[7000:9000, :n_steps], series[7000:9000, -10:, 0]\n",
    "X_test, Y_test = series[9000:, :n_steps], series[9000:, -10:, 0]"
   ]
  },
  {
   "cell_type": "code",
   "execution_count": 7,
   "metadata": {},
   "outputs": [],
   "source": [
    "tf.keras.backend.clear_session()"
   ]
  },
  {
   "cell_type": "code",
   "execution_count": 12,
   "metadata": {},
   "outputs": [
    {
     "output_type": "stream",
     "name": "stdout",
     "text": "Model: \"sequential_2\"\n_________________________________________________________________\nLayer (type)                 Output Shape              Param #   \n=================================================================\nsimple_rnn_4 (SimpleRNN)     (None, None, 20)          440       \n_________________________________________________________________\nsimple_rnn_5 (SimpleRNN)     (None, 20)                820       \n_________________________________________________________________\ndense_2 (Dense)              (None, 10)                210       \n=================================================================\nTotal params: 1,470\nTrainable params: 1,470\nNon-trainable params: 0\n_________________________________________________________________\nNone\nEpoch 1/20\nWARNING:tensorflow:AutoGraph could not transform <function Model.make_train_function.<locals>.train_function at 0x7fa814182710> and will run it as-is.\nPlease report this to the TensorFlow team. When filing the bug, set the verbosity to 10 (on Linux, `export AUTOGRAPH_VERBOSITY=10`) and attach the full output.\nCause: Bad argument number for Name: 4, expecting 3\nTo silence this warning, decorate the function with @tf.autograph.experimental.do_not_convert\nWARNING: AutoGraph could not transform <function Model.make_train_function.<locals>.train_function at 0x7fa814182710> and will run it as-is.\nPlease report this to the TensorFlow team. When filing the bug, set the verbosity to 10 (on Linux, `export AUTOGRAPH_VERBOSITY=10`) and attach the full output.\nCause: Bad argument number for Name: 4, expecting 3\nTo silence this warning, decorate the function with @tf.autograph.experimental.do_not_convert\n700/700 [==============================] - 24s 34ms/step - loss: 0.0470 - mean_squared_error: 0.0470\nEpoch 2/20\n700/700 [==============================] - 23s 33ms/step - loss: 0.0156 - mean_squared_error: 0.0156\nEpoch 3/20\n700/700 [==============================] - 23s 33ms/step - loss: 0.0127 - mean_squared_error: 0.0127\nEpoch 4/20\n700/700 [==============================] - 23s 34ms/step - loss: 0.0118 - mean_squared_error: 0.0118\nEpoch 5/20\n700/700 [==============================] - 23s 34ms/step - loss: 0.0116 - mean_squared_error: 0.0116\nEpoch 6/20\n700/700 [==============================] - 24s 34ms/step - loss: 0.0112 - mean_squared_error: 0.0112\nEpoch 7/20\n700/700 [==============================] - 23s 33ms/step - loss: 0.0112 - mean_squared_error: 0.0112\nEpoch 8/20\n700/700 [==============================] - 23s 33ms/step - loss: 0.0101 - mean_squared_error: 0.0101\nEpoch 9/20\n700/700 [==============================] - 24s 34ms/step - loss: 0.0095 - mean_squared_error: 0.0095\nEpoch 10/20\n700/700 [==============================] - 23s 34ms/step - loss: 0.0088 - mean_squared_error: 0.0088\nEpoch 11/20\n700/700 [==============================] - 24s 34ms/step - loss: 0.0081 - mean_squared_error: 0.0081\nEpoch 12/20\n700/700 [==============================] - 23s 33ms/step - loss: 0.0074 - mean_squared_error: 0.0074\nEpoch 13/20\n700/700 [==============================] - 23s 34ms/step - loss: 0.0069 - mean_squared_error: 0.0069\nEpoch 14/20\n700/700 [==============================] - 23s 34ms/step - loss: 0.0067 - mean_squared_error: 0.0067\nEpoch 15/20\n700/700 [==============================] - 23s 33ms/step - loss: 0.0062 - mean_squared_error: 0.0062\nEpoch 16/20\n700/700 [==============================] - 24s 34ms/step - loss: 0.0056 - mean_squared_error: 0.0056\nEpoch 17/20\n700/700 [==============================] - 23s 34ms/step - loss: 0.0055 - mean_squared_error: 0.0055\nEpoch 18/20\n700/700 [==============================] - 23s 34ms/step - loss: 0.0053 - mean_squared_error: 0.0053\nEpoch 19/20\n700/700 [==============================] - 23s 33ms/step - loss: 0.0050 - mean_squared_error: 0.0050\nEpoch 20/20\n700/700 [==============================] - 23s 34ms/step - loss: 0.0050 - mean_squared_error: 0.0050\n"
    },
    {
     "output_type": "execute_result",
     "data": {
      "text/plain": "<tensorflow.python.keras.callbacks.History at 0x7fa81419a910>"
     },
     "metadata": {},
     "execution_count": 12
    }
   ],
   "source": [
    "modelDeeperRNN10steps = tf.keras.models.Sequential([\n",
    "    keras.layers.SimpleRNN(20, return_sequences=True, input_shape=[None, 1]),\n",
    "    keras.layers.SimpleRNN(20),\n",
    "    keras.layers.Dense(10)\n",
    "])\n",
    "modelDeeperRNN10steps.compile(loss='mean_squared_error', optimizer='adam', metrics=['mean_squared_error'])\n",
    "print(modelDeeperRNN10steps.summary())\n",
    "modelDeeperRNN10steps.fit(X_train, Y_train, epochs=20, batch_size=10)"
   ]
  },
  {
   "cell_type": "code",
   "execution_count": 14,
   "metadata": {},
   "outputs": [
    {
     "output_type": "stream",
     "name": "stdout",
     "text": "WARNING:tensorflow:AutoGraph could not transform <function Model.make_test_function.<locals>.test_function at 0x7fa8046cbdd0> and will run it as-is.\nPlease report this to the TensorFlow team. When filing the bug, set the verbosity to 10 (on Linux, `export AUTOGRAPH_VERBOSITY=10`) and attach the full output.\nCause: Bad argument number for Name: 4, expecting 3\nTo silence this warning, decorate the function with @tf.autograph.experimental.do_not_convert\nWARNING: AutoGraph could not transform <function Model.make_test_function.<locals>.test_function at 0x7fa8046cbdd0> and will run it as-is.\nPlease report this to the TensorFlow team. When filing the bug, set the verbosity to 10 (on Linux, `export AUTOGRAPH_VERBOSITY=10`) and attach the full output.\nCause: Bad argument number for Name: 4, expecting 3\nTo silence this warning, decorate the function with @tf.autograph.experimental.do_not_convert\n63/63 [==============================] - 0s 8ms/step - loss: 0.0041 - mean_squared_error: 0.0041\nMSE: 0.004145677667111158\n"
    }
   ],
   "source": [
    "_, mse = modelDeeperRNN10steps.evaluate(X_valid, Y_valid)\n",
    "print(\"MSE: {}\".format(mse))"
   ]
  },
  {
   "cell_type": "code",
   "execution_count": null,
   "metadata": {},
   "outputs": [],
   "source": []
  }
 ]
}