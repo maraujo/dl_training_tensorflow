{
 "nbformat": 4,
 "nbformat_minor": 2,
 "metadata": {
  "language_info": {
   "name": "python",
   "codemirror_mode": {
    "name": "ipython",
    "version": 3
   },
   "version": "3.7.4-final"
  },
  "orig_nbformat": 2,
  "file_extension": ".py",
  "mimetype": "text/x-python",
  "name": "python",
  "npconvert_exporter": "python",
  "pygments_lexer": "ipython3",
  "version": 3,
  "kernelspec": {
   "name": "python3",
   "display_name": "Python 3"
  }
 },
 "cells": [
  {
   "cell_type": "code",
   "execution_count": 1,
   "metadata": {},
   "outputs": [],
   "source": [
    "import tensorflow as tf\n",
    "tf.keras.backend.clear_session()"
   ]
  },
  {
   "cell_type": "code",
   "execution_count": 8,
   "metadata": {},
   "outputs": [
    {
     "output_type": "stream",
     "name": "stdout",
     "text": "tf.Tensor(\n[[ 0.00355105  0.16650686 -0.14457193 -0.08985979]\n [ 0.00355105  0.16650686 -0.14457193 -0.08985979]], shape=(2, 4), dtype=float32)\n"
    }
   ],
   "source": [
    "from tensorflow.keras import layers\n",
    "\n",
    "class Linear(layers.Layer):\n",
    "    def __init__(self, units=32, input_dim=32):\n",
    "        super(Linear, self).__init__()\n",
    "        w_init = tf.random_normal_initializer()\n",
    "        self.w = tf.Variable(initial_value=w_init(shape=(input_dim, units), dtype='float32'), trainable=True)\n",
    "        b_init = tf.zeros_initializer()\n",
    "        self.b = tf.Variable(initial_value=b_init(shape=(units,), dtype=\"float32\"),trainable=True)\n",
    "    \n",
    "    def call(self, inputs):\n",
    "        return tf.matmul(inputs, self.w) + self.b\n",
    "\n",
    "x = tf.ones((2,2))\n",
    "linear_layer = Linear(4,2)\n",
    "y = linear_layer(x)\n",
    "print(y)\n",
    ""
   ]
  },
  {
   "cell_type": "code",
   "execution_count": 9,
   "metadata": {},
   "outputs": [],
   "source": [
    "assert linear_layer.weights == [linear_layer.w, linear_layer.b]"
   ]
  },
  {
   "cell_type": "code",
   "execution_count": 11,
   "metadata": {},
   "outputs": [
    {
     "output_type": "stream",
     "name": "stdout",
     "text": "tf.Tensor(\n[[ 0.03144151 -0.01216179  0.01912926  0.06848297]\n [ 0.03144151 -0.01216179  0.01912926  0.06848297]], shape=(2, 4), dtype=float32)\n"
    }
   ],
   "source": [
    "class Linear(layers.Layer):\n",
    "    def __init__(self, units=32, input_dim=32):\n",
    "        super(Linear, self).__init__()\n",
    "        self.w = self.add_weight(shape=(input_dim, units), initializer=\"random_normal\", trainable=True)\n",
    "        self.b = self.add_weight(shape=(units,), initializer=\"zeros\", trainable=True)\n",
    "    \n",
    "    def call(self, inputs):\n",
    "        return tf.matmul(inputs, self.w) + self.b\n",
    "\n",
    "x = tf.ones((2,2))\n",
    "linear_layer = Linear(4,2)\n",
    "y = linear_layer(x)\n",
    "print(y)"
   ]
  },
  {
   "cell_type": "code",
   "execution_count": 14,
   "metadata": {},
   "outputs": [
    {
     "output_type": "stream",
     "name": "stdout",
     "text": "[2. 2.]\n[6. 6.]\n"
    }
   ],
   "source": [
    "class ComputeSum(layers.Layer):\n",
    "    def __init__(self, input_dim):\n",
    "        super(ComputeSum, self).__init__()\n",
    "        self.total = tf.Variable(initial_value=tf.zeros(input_dim,), trainable=False)\n",
    "    def call(self, inputs):\n",
    "        self.total.assign_add(tf.reduce_sum(inputs, axis=0))\n",
    "        return self.total\n",
    "x = tf.ones((2,2))\n",
    "my_sum = ComputeSum(2)\n",
    "y = my_sum(x)\n",
    "print(y.numpy())\n",
    "y = my_sum(x)\n",
    "y = my_sum(x)\n",
    "print(y.numpy())"
   ]
  },
  {
   "cell_type": "code",
   "execution_count": 15,
   "metadata": {},
   "outputs": [
    {
     "output_type": "stream",
     "name": "stdout",
     "text": "weights: 1\nnon-trainable weights: 1\ntrainable weights: []\n"
    }
   ],
   "source": [
    "print(\"weights:\", len(my_sum.weights))\n",
    "print(\"non-trainable weights:\", len(my_sum.non_trainable_weights))\n",
    "print(\"trainable weights:\",my_sum.trainable_weights)"
   ]
  },
  {
   "cell_type": "code",
   "execution_count": 21,
   "metadata": {},
   "outputs": [],
   "source": [
    "class Linear(layers.Layer):\n",
    "    def __init__(self, units=32):\n",
    "        super(Linear, self).__init__()\n",
    "        self.units = units\n",
    "    def build(self, input_shape):\n",
    "        self.w = self.add_weight(shape=(input_shape[-1], self.units),\n",
    "                                    initializer=\"random_normal\",\n",
    "                                    trainable=True)\n",
    "        self.b = self.add_weight(shape=(self.units,), initializer=\"random_normal\", trainable=True)\n",
    "    def call(self, inputs):\n",
    "        return tf.matmul(inputs, self.w) + self.b"
   ]
  },
  {
   "cell_type": "code",
   "execution_count": 23,
   "metadata": {},
   "outputs": [
    {
     "output_type": "execute_result",
     "data": {
      "text/plain": "<tf.Tensor: shape=(2, 32), dtype=float32, numpy=\narray([[-0.0331331 , -0.01813734, -0.06477976,  0.01119325, -0.04307769,\n         0.09344503,  0.0338332 , -0.1452323 , -0.019083  , -0.0283331 ,\n        -0.10489541,  0.03940399, -0.04188932, -0.01136085,  0.02615064,\n         0.08063985, -0.0386435 , -0.0694808 ,  0.13542259,  0.12774767,\n        -0.15723357, -0.07374229,  0.04974367, -0.10200937,  0.12304308,\n        -0.05919454,  0.00974186, -0.06059979, -0.05236447, -0.16237456,\n        -0.06443098, -0.12150645],\n       [-0.0331331 , -0.01813734, -0.06477976,  0.01119325, -0.04307769,\n         0.09344503,  0.0338332 , -0.1452323 , -0.019083  , -0.0283331 ,\n        -0.10489541,  0.03940399, -0.04188932, -0.01136085,  0.02615064,\n         0.08063985, -0.0386435 , -0.0694808 ,  0.13542259,  0.12774767,\n        -0.15723357, -0.07374229,  0.04974367, -0.10200937,  0.12304308,\n        -0.05919454,  0.00974186, -0.06059979, -0.05236447, -0.16237456,\n        -0.06443098, -0.12150645]], dtype=float32)>"
     },
     "metadata": {},
     "execution_count": 23
    }
   ],
   "source": [
    "linear_layer = Linear(32)\n",
    "y = linear_layer(x)\n",
    "y"
   ]
  },
  {
   "cell_type": "code",
   "execution_count": 31,
   "metadata": {},
   "outputs": [
    {
     "output_type": "stream",
     "name": "stdout",
     "text": "weights: 6\ntrainable weights: 6\n"
    }
   ],
   "source": [
    "class MLPBlock(layers.Layer):\n",
    "    def __init__(self):\n",
    "        super(MLPBlock, self).__init__()\n",
    "        self.linear_1 = Linear(32)\n",
    "        self.linear_2 = Linear(32)\n",
    "        self.linear_3 = Linear(1)\n",
    "    def call(self, inputs):\n",
    "        x = self.linear_1(inputs)\n",
    "        x = tf.nn.relu(x)\n",
    "        x = self.linear_2(x)\n",
    "        x = tf.nn.relu(x)\n",
    "        return self.linear_3(x)\n",
    "mlp = MLPBlock()\n",
    "y = mlp(tf.ones(shape=(3, 64)))\n",
    "print(\"weights:\", len(mlp.weights))\n",
    "print(\"trainable weights:\", len(mlp.trainable_weights))"
   ]
  },
  {
   "cell_type": "code",
   "execution_count": 41,
   "metadata": {},
   "outputs": [],
   "source": [
    "class ActivityRegularizationLayer(layers.Layer):\n",
    "    def __init__(self, rate=1e-2):\n",
    "        super(ActivityRegularizationLayer, self).__init__()\n",
    "        self.rate = rate\n",
    "    def call(self, inputs):\n",
    "        self.add_loss(self.rate * tf.reduce_sum(inputs))\n",
    "        return inputs"
   ]
  },
  {
   "cell_type": "code",
   "execution_count": 42,
   "metadata": {},
   "outputs": [],
   "source": [
    "class OuterLayer(layers.Layer):\n",
    "    def __init__(self):\n",
    "        super(OuterLayer, self).__init__()\n",
    "        self.activity_reg = ActivityRegularizationLayer(1e-2)\n",
    "\n",
    "    def call(self, inputs):\n",
    "        return self.activity_reg(inputs)"
   ]
  },
  {
   "cell_type": "code",
   "execution_count": 46,
   "metadata": {},
   "outputs": [],
   "source": [
    "layer = OuterLayer()\n",
    "assert len(layer.losses) == 0\n",
    "_ = layer(tf.zeros(1,1))\n",
    "assert len(layer.losses) == 1\n",
    "_ = layer(tf.zeros(1,1))\n",
    "assert len(layer.losses) == 1"
   ]
  },
  {
   "cell_type": "code",
   "execution_count": 51,
   "metadata": {},
   "outputs": [],
   "source": [
    "class Sampling(layers.Layer):\n",
    "    def call(self, inputs):\n",
    "        z_mean, z_log_var = inputs\n",
    "        batch = tf.shape(z_mean)[0]\n",
    "        dim = tf.shape(z_mean)[1]\n",
    "        epsilon = tf.keras.backend.random_normal(shape=(batch, dim))\n",
    "        return z_mean + tf.exp(0.5 * z_log_var) * epsilon\n",
    "\n",
    "class Encoder(layers.Layer):\n",
    "    def __init__(self,\n",
    "                latent_dim=32,\n",
    "                intermediate_dim=64,\n",
    "                name='encoder',\n",
    "                **kwargs):\n",
    "        super(Encoder, self).__init__(name=name, **kwargs)\n",
    "        self.dense_proj = layers.Dense(intermediate_dim, activation=\"relu\")\n",
    "        self.dense_mean = layers.Dense(latent_dim)\n",
    "        self.dense_log_var = layers.Dense(latent_dim)\n",
    "        self.sampling = Sampling()\n",
    "\n",
    "    def call(self, inputs):\n",
    "        x = self.dense_proj(inputs)\n",
    "        z_mean = self.dense_mean(x)\n",
    "        z_log_var = self.dense_log_var(x)\n",
    "        z = self.sampling((z_mean, z_log_var))\n",
    "        return z_mean, z_log_var, z\n",
    "\n",
    "class Decoder(layers.Layer):\n",
    "    def __init__(self,\n",
    "                original_dim,\n",
    "                intermediate_dim=64,\n",
    "                name=\"decoder\",\n",
    "                **kwargs):\n",
    "        super(Decoder, self).__init__(name=name, **kwargs)\n",
    "        self.dense_proj = layers.Dense(intermediate_dim, activation='relu')\n",
    "        self.dense_output = layers.Dense(original_dim, activation='sigmoid')\n",
    "    \n",
    "    def call(self, inputs):\n",
    "        x = self.dense_proj(inputs)\n",
    "        return self.dense_output(x)\n",
    "\n",
    "class VariationalAutoEncoder(tf.keras.Model):\n",
    "    def __init__(self,\n",
    "                original_dim,\n",
    "                intermediate_dim=64,\n",
    "                latent_dim=32,\n",
    "                name='autoencoder',\n",
    "                **kwargs):\n",
    "        super(VariationalAutoEncoder, self).__init__(name=name, **kwargs)\n",
    "        self.encoder = Encoder(latent_dim=latent_dim, intermediate_dim=intermediate_dim)\n",
    "        self.decoder = Decoder(original_dim, intermediate_dim=intermediate_dim)\n",
    "    \n",
    "    def call(self, inputs):\n",
    "        z_mean, z_log_var, z = self.encoder(inputs)\n",
    "        reconstructed = self.decoder(z)\n",
    "        kl_loss = -0.5 * tf.reduce_mean( z_log_var - tf.square(z_mean) - tf.exp(z_log_var) + 1)\n",
    "        self.add_loss(kl_loss)\n",
    "        return reconstructed"
   ]
  },
  {
   "cell_type": "code",
   "execution_count": 54,
   "metadata": {},
   "outputs": [
    {
     "output_type": "stream",
     "name": "stdout",
     "text": "Start of epoch 0\nstep 0: mean loss = tf.Tensor(0.34648913, shape=(), dtype=float32)\nstep 100: mean loss = tf.Tensor(0.12550786, shape=(), dtype=float32)\nstep 200: mean loss = tf.Tensor(0.0991295, shape=(), dtype=float32)\nstep 300: mean loss = tf.Tensor(0.08919467, shape=(), dtype=float32)\nstep 400: mean loss = tf.Tensor(0.08424322, shape=(), dtype=float32)\nstep 500: mean loss = tf.Tensor(0.08090792, shape=(), dtype=float32)\nstep 600: mean loss = tf.Tensor(0.07873942, shape=(), dtype=float32)\nstep 700: mean loss = tf.Tensor(0.07716029, shape=(), dtype=float32)\nstep 800: mean loss = tf.Tensor(0.07596049, shape=(), dtype=float32)\nstep 900: mean loss = tf.Tensor(0.07496917, shape=(), dtype=float32)\nStart of epoch 1\nstep 0: mean loss = tf.Tensor(0.07466925, shape=(), dtype=float32)\nstep 100: mean loss = tf.Tensor(0.07402042, shape=(), dtype=float32)\nstep 200: mean loss = tf.Tensor(0.073520966, shape=(), dtype=float32)\nstep 300: mean loss = tf.Tensor(0.07303121, shape=(), dtype=float32)\nstep 400: mean loss = tf.Tensor(0.072704315, shape=(), dtype=float32)\nstep 500: mean loss = tf.Tensor(0.072305135, shape=(), dtype=float32)\nstep 600: mean loss = tf.Tensor(0.07200876, shape=(), dtype=float32)\nstep 700: mean loss = tf.Tensor(0.07171881, shape=(), dtype=float32)\nstep 800: mean loss = tf.Tensor(0.07148322, shape=(), dtype=float32)\nstep 900: mean loss = tf.Tensor(0.071218476, shape=(), dtype=float32)\nStart of epoch 2\nstep 0: mean loss = tf.Tensor(0.0711447, shape=(), dtype=float32)\nstep 100: mean loss = tf.Tensor(0.07096628, shape=(), dtype=float32)\nstep 200: mean loss = tf.Tensor(0.07083182, shape=(), dtype=float32)\nstep 300: mean loss = tf.Tensor(0.07068494, shape=(), dtype=float32)\nstep 400: mean loss = tf.Tensor(0.07058732, shape=(), dtype=float32)\nstep 500: mean loss = tf.Tensor(0.0704281, shape=(), dtype=float32)\nstep 600: mean loss = tf.Tensor(0.07031622, shape=(), dtype=float32)\nstep 700: mean loss = tf.Tensor(0.07019896, shape=(), dtype=float32)\nstep 800: mean loss = tf.Tensor(0.07009543, shape=(), dtype=float32)\nstep 900: mean loss = tf.Tensor(0.06997127, shape=(), dtype=float32)\n"
    }
   ],
   "source": [
    "original_dim = 784\n",
    "vae = VariationalAutoEncoder(original_dim, 64, 32)\n",
    "optimizer = tf.keras.optimizers.Adam(learning_rate=1e-3)\n",
    "mse_loss_fn = tf.keras.losses.MeanSquaredError()\n",
    "\n",
    "loss_metric = tf.keras.metrics.Mean()\n",
    "\n",
    "(x_train, _), _ = tf.keras.datasets.mnist.load_data()\n",
    "x_train = x_train.reshape(60000, 784).astype('float32') / 255\n",
    "\n",
    "train_dataset = tf.data.Dataset.from_tensor_slices(x_train)\n",
    "train_dataset = train_dataset.shuffle(buffer_size=1024).batch(64)\n",
    "\n",
    "epochs = 3\n",
    "\n",
    "for epoch in range(epochs):\n",
    "    print(\"Start of epoch %d\" % (epoch,))\n",
    "\n",
    "    for step, x_batch_train in enumerate(train_dataset):\n",
    "        with tf.GradientTape() as tape:\n",
    "            reconstructed = vae(x_batch_train)\n",
    "            loss = mse_loss_fn(x_batch_train, reconstructed)\n",
    "            loss += sum(vae.losses)\n",
    "        \n",
    "        grads = tape.gradient(loss, vae.trainable_weights)\n",
    "        optimizer.apply_gradients(zip(grads, vae.trainable_weights))\n",
    "\n",
    "        loss_metric(loss)\n",
    "\n",
    "        if step % 100 == 0:\n",
    "            print('step %s: mean loss = %s' % (step, loss_metric.result()))"
   ]
  },
  {
   "cell_type": "code",
   "execution_count": 91,
   "metadata": {},
   "outputs": [
    {
     "output_type": "stream",
     "name": "stdout",
     "text": "Train on 60000 samples\nEpoch 1/20\n60000/60000 [==============================] - 3s 49us/sample - loss: 0.0748\nEpoch 2/20\n60000/60000 [==============================] - 2s 41us/sample - loss: 0.0676\nEpoch 3/20\n60000/60000 [==============================] - 2s 42us/sample - loss: 0.0676\nEpoch 4/20\n60000/60000 [==============================] - 2s 41us/sample - loss: 0.0675\nEpoch 5/20\n60000/60000 [==============================] - 3s 42us/sample - loss: 0.0675\nEpoch 6/20\n60000/60000 [==============================] - 2s 41us/sample - loss: 0.0675\nEpoch 7/20\n60000/60000 [==============================] - 2s 41us/sample - loss: 0.0674\nEpoch 8/20\n60000/60000 [==============================] - 2s 41us/sample - loss: 0.0674\nEpoch 9/20\n60000/60000 [==============================] - 2s 41us/sample - loss: 0.0674\nEpoch 10/20\n60000/60000 [==============================] - 2s 41us/sample - loss: 0.0674\nEpoch 11/20\n60000/60000 [==============================] - 2s 41us/sample - loss: 0.0674\nEpoch 12/20\n60000/60000 [==============================] - 2s 41us/sample - loss: 0.0674\nEpoch 13/20\n60000/60000 [==============================] - 2s 41us/sample - loss: 0.0674\nEpoch 14/20\n60000/60000 [==============================] - 2s 41us/sample - loss: 0.0674\nEpoch 15/20\n60000/60000 [==============================] - 2s 41us/sample - loss: 0.0673\nEpoch 16/20\n60000/60000 [==============================] - 2s 41us/sample - loss: 0.0673\nEpoch 17/20\n60000/60000 [==============================] - 3s 42us/sample - loss: 0.0673\nEpoch 18/20\n60000/60000 [==============================] - 2s 41us/sample - loss: 0.0673\nEpoch 19/20\n60000/60000 [==============================] - 3s 42us/sample - loss: 0.0673\nEpoch 20/20\n60000/60000 [==============================] - 2s 41us/sample - loss: 0.0673\n"
    },
    {
     "output_type": "execute_result",
     "data": {
      "text/plain": "<tensorflow.python.keras.callbacks.History at 0x7f1af61441d0>"
     },
     "metadata": {},
     "execution_count": 91
    }
   ],
   "source": [
    "vae2 = VariationalAutoEncoder(784, 64, 32)\n",
    "optimizer = tf.keras.optimizers.Adam(learning_rate=1e-3)\n",
    "vae2.compile(optimizer, loss=tf.keras.losses.MeanSquaredError())\n",
    "vae2.fit(x_train, x_train, epochs=20, batch_size=64)"
   ]
  },
  {
   "cell_type": "code",
   "execution_count": 102,
   "metadata": {
    "tags": [
     "outputPrepend",
     "outputPrepend"
    ]
   },
   "outputs": [
    {
     "output_type": "display_data",
     "data": {
      "text/plain": "<Figure size 432x288 with 1 Axes>",
      "image/svg+xml": "<?xml version=\"1.0\" encoding=\"utf-8\" standalone=\"no\"?>\n<!DOCTYPE svg PUBLIC \"-//W3C//DTD SVG 1.1//EN\"\n  \"http://www.w3.org/Graphics/SVG/1.1/DTD/svg11.dtd\">\n<!-- Created with matplotlib (https://matplotlib.org/) -->\n<svg height=\"248.518125pt\" version=\"1.1\" viewBox=\"0 0 251.565 248.518125\" width=\"251.565pt\" xmlns=\"http://www.w3.org/2000/svg\" xmlns:xlink=\"http://www.w3.org/1999/xlink\">\n <defs>\n  <style type=\"text/css\">\n*{stroke-linecap:butt;stroke-linejoin:round;}\n  </style>\n </defs>\n <g id=\"figure_1\">\n  <g id=\"patch_1\">\n   <path d=\"M 0 248.518125 \nL 251.565 248.518125 \nL 251.565 0 \nL 0 0 \nz\n\" style=\"fill:none;\"/>\n  </g>\n  <g id=\"axes_1\">\n   <g id=\"patch_2\">\n    <path d=\"M 26.925 224.64 \nL 244.365 224.64 \nL 244.365 7.2 \nL 26.925 7.2 \nz\n\" style=\"fill:#ffffff;\"/>\n   </g>\n   <g clip-path=\"url(#p29c210972c)\">\n    <image height=\"218\" id=\"image8250ebe1cf\" transform=\"scale(1 -1)translate(0 -218)\" width=\"218\" x=\"26.925\" xlink:href=\"data:image/png;base64,\niVBORw0KGgoAAAANSUhEUgAAANoAAADaCAYAAADAHVzbAAAABHNCSVQICAgIfAhkiAAABJBJREFUeJzt3SFvVWccwOFzl6kJLAmmIUWhcHQhVJFUk5DUYUcyheFroEiYnUNVY1kIzE2BATFDUjuBZR9g3PNmvb2/tuc+j/2Xw2mTX97kvDnvWT1YPfo2AVv1w0XfAOwCoUFAaBAQGgSEBgGhQUBoEBAaBIQGAaFBQGgQEBoEhAYBoUFAaBAQGgSEBgGhQUBoEBAaBIQGAaFB4MeLvgF6199dWzv7fe/N7L89unHnvG9nJ1jRICA0CAgNAkKDgNAgIDQICA0C9tEW6NPzg9n5672XW7v2rafvz3ztJbOiQUBoEBAaBIQGAaFBQGgQEBoEhAYBoUFAaBAQGgSEBgGhQUBoEBAaBLyPtkDDd8KOz37tewcfZuenZ7/0olnRICA0CAgNAkKDgNAgIDQICA0C9tH4X4bfT5t8P+17rGgQEBoEhAYBoUFAaBAQGgSEBgGhQUBoEBAaBIQGAaFBQGgQEBoEvCZzRl8f3p2dfzlcrZ0Nj4NjcaxoEBAaBIQGAaFBQGgQEBoEhAaB1YPVo28XfROX0fV312bno2PXNvH478PZ+dv3t2fno326ud9t099r/9WT2fmu7iFa0SAgNAgIDQJCg4DQICA0CAgNAjv7Ptqn5wez89d7L6M7+a/hXtZofnx+98L5sKJBQGgQEBoEhAYBoUFAaBBY7OP90XFwn48v7vE9u8eKBgGhQUBoEBAaBIQGAaFBQGgQWOw+2txnk87D6Ei405//WTsbvaIzcu/gw+x8m0fhjYz2J4+e3onu5HKxokFAaBAQGgSEBgGhQUBoEBAaBBa7jzbaa9rU8NNJ0/rPE2366aLTwfz+w19m5zeffVw72/Ye3Nwe4pI/6WRFg4DQICA0CAgNAkKDgNAgIDQILHYfbZf9dPLn7Pz0ZP3s8bv59+w23Web298c7Q9eZVY0CAgNAkKDgNAgIDQICA0CQoPAYvfRRu+LTRd49uFltu2/29w+3NG03DMfrWgQEBoEhAYBoUFAaBAQGgQW+3j/xptv8z9wvNn1R8fZLfmVj03sv3qydjZ3RN9VZ0WDgNAgIDQICA0CQoOA0CAgNAgsdh9tdOTa/uH6/ZxpmqbPxy9n56Nj1+Y+nTS6t4s0/HTShvuPu8qKBgGhQUBoEBAaBIQGAaFBQGgQWOw+2si231f748Vva2dHJ5f3WLWvD+8OfuKvja4//LsvlBUNAkKDgNAgIDQICA0CQoOA0CCws/tow3fCXjT3cdl8OVxt9fqX+V28bbKiQUBoEBAaBIQGAaFBQGgQEBoEdnYfje/b9rmOn54fnP3/vsKsaBAQGgSEBgGhQUBoEBAaBDzeX+P+r+s/uzRN03Tz2cfZ+dv3t9fObk1X9zH2/qv5z13dO/gwO3fcHLA1QoOA0CAgNAgIDQJCg4DQILB6sHq0mxsbELKiQUBoEBAaBIQGAaFBQGgQEBoEhAYBoUFAaBAQGgSEBgGhQUBoEBAaBIQGAaFBQGgQEBoEhAYBoUFAaBAQGgSEBgGhQUBoEBAaBIQGAaFBQGgQEBoEhAYBoUFAaBAQGgSEBgGhQUBoEPgX2qWDmbjgFFwAAAAASUVORK5CYII=\" y=\"-6.64\"/>\n   </g>\n   <g id=\"matplotlib.axis_1\">\n    <g id=\"xtick_1\">\n     <g id=\"line2d_1\">\n      <defs>\n       <path d=\"M 0 0 \nL 0 3.5 \n\" id=\"m9bf26619f8\" style=\"stroke:#000000;stroke-width:0.8;\"/>\n      </defs>\n      <g>\n       <use style=\"stroke:#000000;stroke-width:0.8;\" x=\"30.807857\" xlink:href=\"#m9bf26619f8\" y=\"224.64\"/>\n      </g>\n     </g>\n     <g id=\"text_1\">\n      <!-- 0 -->\n      <defs>\n       <path d=\"M 31.78125 66.40625 \nQ 24.171875 66.40625 20.328125 58.90625 \nQ 16.5 51.421875 16.5 36.375 \nQ 16.5 21.390625 20.328125 13.890625 \nQ 24.171875 6.390625 31.78125 6.390625 \nQ 39.453125 6.390625 43.28125 13.890625 \nQ 47.125 21.390625 47.125 36.375 \nQ 47.125 51.421875 43.28125 58.90625 \nQ 39.453125 66.40625 31.78125 66.40625 \nz\nM 31.78125 74.21875 \nQ 44.046875 74.21875 50.515625 64.515625 \nQ 56.984375 54.828125 56.984375 36.375 \nQ 56.984375 17.96875 50.515625 8.265625 \nQ 44.046875 -1.421875 31.78125 -1.421875 \nQ 19.53125 -1.421875 13.0625 8.265625 \nQ 6.59375 17.96875 6.59375 36.375 \nQ 6.59375 54.828125 13.0625 64.515625 \nQ 19.53125 74.21875 31.78125 74.21875 \nz\n\" id=\"DejaVuSans-48\"/>\n      </defs>\n      <g transform=\"translate(27.626607 239.238437)scale(0.1 -0.1)\">\n       <use xlink:href=\"#DejaVuSans-48\"/>\n      </g>\n     </g>\n    </g>\n    <g id=\"xtick_2\">\n     <g id=\"line2d_2\">\n      <g>\n       <use style=\"stroke:#000000;stroke-width:0.8;\" x=\"69.636429\" xlink:href=\"#m9bf26619f8\" y=\"224.64\"/>\n      </g>\n     </g>\n     <g id=\"text_2\">\n      <!-- 5 -->\n      <defs>\n       <path d=\"M 10.796875 72.90625 \nL 49.515625 72.90625 \nL 49.515625 64.59375 \nL 19.828125 64.59375 \nL 19.828125 46.734375 \nQ 21.96875 47.46875 24.109375 47.828125 \nQ 26.265625 48.1875 28.421875 48.1875 \nQ 40.625 48.1875 47.75 41.5 \nQ 54.890625 34.8125 54.890625 23.390625 \nQ 54.890625 11.625 47.5625 5.09375 \nQ 40.234375 -1.421875 26.90625 -1.421875 \nQ 22.3125 -1.421875 17.546875 -0.640625 \nQ 12.796875 0.140625 7.71875 1.703125 \nL 7.71875 11.625 \nQ 12.109375 9.234375 16.796875 8.0625 \nQ 21.484375 6.890625 26.703125 6.890625 \nQ 35.15625 6.890625 40.078125 11.328125 \nQ 45.015625 15.765625 45.015625 23.390625 \nQ 45.015625 31 40.078125 35.4375 \nQ 35.15625 39.890625 26.703125 39.890625 \nQ 22.75 39.890625 18.8125 39.015625 \nQ 14.890625 38.140625 10.796875 36.28125 \nz\n\" id=\"DejaVuSans-53\"/>\n      </defs>\n      <g transform=\"translate(66.455179 239.238437)scale(0.1 -0.1)\">\n       <use xlink:href=\"#DejaVuSans-53\"/>\n      </g>\n     </g>\n    </g>\n    <g id=\"xtick_3\">\n     <g id=\"line2d_3\">\n      <g>\n       <use style=\"stroke:#000000;stroke-width:0.8;\" x=\"108.465\" xlink:href=\"#m9bf26619f8\" y=\"224.64\"/>\n      </g>\n     </g>\n     <g id=\"text_3\">\n      <!-- 10 -->\n      <defs>\n       <path d=\"M 12.40625 8.296875 \nL 28.515625 8.296875 \nL 28.515625 63.921875 \nL 10.984375 60.40625 \nL 10.984375 69.390625 \nL 28.421875 72.90625 \nL 38.28125 72.90625 \nL 38.28125 8.296875 \nL 54.390625 8.296875 \nL 54.390625 0 \nL 12.40625 0 \nz\n\" id=\"DejaVuSans-49\"/>\n      </defs>\n      <g transform=\"translate(102.1025 239.238437)scale(0.1 -0.1)\">\n       <use xlink:href=\"#DejaVuSans-49\"/>\n       <use x=\"63.623047\" xlink:href=\"#DejaVuSans-48\"/>\n      </g>\n     </g>\n    </g>\n    <g id=\"xtick_4\">\n     <g id=\"line2d_4\">\n      <g>\n       <use style=\"stroke:#000000;stroke-width:0.8;\" x=\"147.293571\" xlink:href=\"#m9bf26619f8\" y=\"224.64\"/>\n      </g>\n     </g>\n     <g id=\"text_4\">\n      <!-- 15 -->\n      <g transform=\"translate(140.931071 239.238437)scale(0.1 -0.1)\">\n       <use xlink:href=\"#DejaVuSans-49\"/>\n       <use x=\"63.623047\" xlink:href=\"#DejaVuSans-53\"/>\n      </g>\n     </g>\n    </g>\n    <g id=\"xtick_5\">\n     <g id=\"line2d_5\">\n      <g>\n       <use style=\"stroke:#000000;stroke-width:0.8;\" x=\"186.122143\" xlink:href=\"#m9bf26619f8\" y=\"224.64\"/>\n      </g>\n     </g>\n     <g id=\"text_5\">\n      <!-- 20 -->\n      <defs>\n       <path d=\"M 19.1875 8.296875 \nL 53.609375 8.296875 \nL 53.609375 0 \nL 7.328125 0 \nL 7.328125 8.296875 \nQ 12.9375 14.109375 22.625 23.890625 \nQ 32.328125 33.6875 34.8125 36.53125 \nQ 39.546875 41.84375 41.421875 45.53125 \nQ 43.3125 49.21875 43.3125 52.78125 \nQ 43.3125 58.59375 39.234375 62.25 \nQ 35.15625 65.921875 28.609375 65.921875 \nQ 23.96875 65.921875 18.8125 64.3125 \nQ 13.671875 62.703125 7.8125 59.421875 \nL 7.8125 69.390625 \nQ 13.765625 71.78125 18.9375 73 \nQ 24.125 74.21875 28.421875 74.21875 \nQ 39.75 74.21875 46.484375 68.546875 \nQ 53.21875 62.890625 53.21875 53.421875 \nQ 53.21875 48.921875 51.53125 44.890625 \nQ 49.859375 40.875 45.40625 35.40625 \nQ 44.1875 33.984375 37.640625 27.21875 \nQ 31.109375 20.453125 19.1875 8.296875 \nz\n\" id=\"DejaVuSans-50\"/>\n      </defs>\n      <g transform=\"translate(179.759643 239.238437)scale(0.1 -0.1)\">\n       <use xlink:href=\"#DejaVuSans-50\"/>\n       <use x=\"63.623047\" xlink:href=\"#DejaVuSans-48\"/>\n      </g>\n     </g>\n    </g>\n    <g id=\"xtick_6\">\n     <g id=\"line2d_6\">\n      <g>\n       <use style=\"stroke:#000000;stroke-width:0.8;\" x=\"224.950714\" xlink:href=\"#m9bf26619f8\" y=\"224.64\"/>\n      </g>\n     </g>\n     <g id=\"text_6\">\n      <!-- 25 -->\n      <g transform=\"translate(218.588214 239.238437)scale(0.1 -0.1)\">\n       <use xlink:href=\"#DejaVuSans-50\"/>\n       <use x=\"63.623047\" xlink:href=\"#DejaVuSans-53\"/>\n      </g>\n     </g>\n    </g>\n   </g>\n   <g id=\"matplotlib.axis_2\">\n    <g id=\"ytick_1\">\n     <g id=\"line2d_7\">\n      <defs>\n       <path d=\"M 0 0 \nL -3.5 0 \n\" id=\"m70ad616b83\" style=\"stroke:#000000;stroke-width:0.8;\"/>\n      </defs>\n      <g>\n       <use style=\"stroke:#000000;stroke-width:0.8;\" x=\"26.925\" xlink:href=\"#m70ad616b83\" y=\"11.082857\"/>\n      </g>\n     </g>\n     <g id=\"text_7\">\n      <!-- 0 -->\n      <g transform=\"translate(13.5625 14.882076)scale(0.1 -0.1)\">\n       <use xlink:href=\"#DejaVuSans-48\"/>\n      </g>\n     </g>\n    </g>\n    <g id=\"ytick_2\">\n     <g id=\"line2d_8\">\n      <g>\n       <use style=\"stroke:#000000;stroke-width:0.8;\" x=\"26.925\" xlink:href=\"#m70ad616b83\" y=\"49.911429\"/>\n      </g>\n     </g>\n     <g id=\"text_8\">\n      <!-- 5 -->\n      <g transform=\"translate(13.5625 53.710647)scale(0.1 -0.1)\">\n       <use xlink:href=\"#DejaVuSans-53\"/>\n      </g>\n     </g>\n    </g>\n    <g id=\"ytick_3\">\n     <g id=\"line2d_9\">\n      <g>\n       <use style=\"stroke:#000000;stroke-width:0.8;\" x=\"26.925\" xlink:href=\"#m70ad616b83\" y=\"88.74\"/>\n      </g>\n     </g>\n     <g id=\"text_9\">\n      <!-- 10 -->\n      <g transform=\"translate(7.2 92.539219)scale(0.1 -0.1)\">\n       <use xlink:href=\"#DejaVuSans-49\"/>\n       <use x=\"63.623047\" xlink:href=\"#DejaVuSans-48\"/>\n      </g>\n     </g>\n    </g>\n    <g id=\"ytick_4\">\n     <g id=\"line2d_10\">\n      <g>\n       <use style=\"stroke:#000000;stroke-width:0.8;\" x=\"26.925\" xlink:href=\"#m70ad616b83\" y=\"127.568571\"/>\n      </g>\n     </g>\n     <g id=\"text_10\">\n      <!-- 15 -->\n      <g transform=\"translate(7.2 131.36779)scale(0.1 -0.1)\">\n       <use xlink:href=\"#DejaVuSans-49\"/>\n       <use x=\"63.623047\" xlink:href=\"#DejaVuSans-53\"/>\n      </g>\n     </g>\n    </g>\n    <g id=\"ytick_5\">\n     <g id=\"line2d_11\">\n      <g>\n       <use style=\"stroke:#000000;stroke-width:0.8;\" x=\"26.925\" xlink:href=\"#m70ad616b83\" y=\"166.397143\"/>\n      </g>\n     </g>\n     <g id=\"text_11\">\n      <!-- 20 -->\n      <g transform=\"translate(7.2 170.196362)scale(0.1 -0.1)\">\n       <use xlink:href=\"#DejaVuSans-50\"/>\n       <use x=\"63.623047\" xlink:href=\"#DejaVuSans-48\"/>\n      </g>\n     </g>\n    </g>\n    <g id=\"ytick_6\">\n     <g id=\"line2d_12\">\n      <g>\n       <use style=\"stroke:#000000;stroke-width:0.8;\" x=\"26.925\" xlink:href=\"#m70ad616b83\" y=\"205.225714\"/>\n      </g>\n     </g>\n     <g id=\"text_12\">\n      <!-- 25 -->\n      <g transform=\"translate(7.2 209.024933)scale(0.1 -0.1)\">\n       <use xlink:href=\"#DejaVuSans-50\"/>\n       <use x=\"63.623047\" xlink:href=\"#DejaVuSans-53\"/>\n      </g>\n     </g>\n    </g>\n   </g>\n   <g id=\"patch_3\">\n    <path d=\"M 26.925 224.64 \nL 26.925 7.2 \n\" style=\"fill:none;stroke:#000000;stroke-linecap:square;stroke-linejoin:miter;stroke-width:0.8;\"/>\n   </g>\n   <g id=\"patch_4\">\n    <path d=\"M 244.365 224.64 \nL 244.365 7.2 \n\" style=\"fill:none;stroke:#000000;stroke-linecap:square;stroke-linejoin:miter;stroke-width:0.8;\"/>\n   </g>\n   <g id=\"patch_5\">\n    <path d=\"M 26.925 224.64 \nL 244.365 224.64 \n\" style=\"fill:none;stroke:#000000;stroke-linecap:square;stroke-linejoin:miter;stroke-width:0.8;\"/>\n   </g>\n   <g id=\"patch_6\">\n    <path d=\"M 26.925 7.2 \nL 244.365 7.2 \n\" style=\"fill:none;stroke:#000000;stroke-linecap:square;stroke-linejoin:miter;stroke-width:0.8;\"/>\n   </g>\n  </g>\n </g>\n <defs>\n  <clipPath id=\"p29c210972c\">\n   <rect height=\"217.44\" width=\"217.44\" x=\"26.925\" y=\"7.2\"/>\n  </clipPath>\n </defs>\n</svg>\n",
      "image/png": "[encoded data removed]"
     },
     "metadata": {
      "needs_background": "light"
     }
    },
    {
     "output_type": "display_data",
     "data": {
      "text/plain": "<Figure size 432x288 with 1 Axes>",
      "image/svg+xml": "<?xml version=\"1.0\" encoding=\"utf-8\" standalone=\"no\"?>\n<!DOCTYPE svg PUBLIC \"-//W3C//DTD SVG 1.1//EN\"\n  \"http://www.w3.org/Graphics/SVG/1.1/DTD/svg11.dtd\">\n<!-- Created with matplotlib (https://matplotlib.org/) -->\n<svg height=\"248.518125pt\" version=\"1.1\" viewBox=\"0 0 251.565 248.518125\" width=\"251.565pt\" xmlns=\"http://www.w3.org/2000/svg\" xmlns:xlink=\"http://www.w3.org/1999/xlink\">\n <defs>\n  <style type=\"text/css\">\n*{stroke-linecap:butt;stroke-linejoin:round;}\n  </style>\n </defs>\n <g id=\"figure_1\">\n  <g id=\"patch_1\">\n   <path d=\"M 0 248.518125 \nL 251.565 248.518125 \nL 251.565 0 \nL 0 0 \nz\n\" style=\"fill:none;\"/>\n  </g>\n  <g id=\"axes_1\">\n   <g id=\"patch_2\">\n    <path d=\"M 26.925 224.64 \nL 244.365 224.64 \nL 244.365 7.2 \nL 26.925 7.2 \nz\n\" style=\"fill:#ffffff;\"/>\n   </g>\n   <g clip-path=\"url(#pb1e084bdec)\">\n    <image height=\"218\" id=\"image2f9e8e0148\" transform=\"scale(1 -1)translate(0 -218)\" width=\"218\" x=\"26.925\" xlink:href=\"data:image/png;base64,\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\" y=\"-6.64\"/>\n   </g>\n   <g id=\"matplotlib.axis_1\">\n    <g id=\"xtick_1\">\n     <g id=\"line2d_1\">\n      <defs>\n       <path d=\"M 0 0 \nL 0 3.5 \n\" id=\"m0512224108\" style=\"stroke:#000000;stroke-width:0.8;\"/>\n      </defs>\n      <g>\n       <use style=\"stroke:#000000;stroke-width:0.8;\" x=\"30.807857\" xlink:href=\"#m0512224108\" y=\"224.64\"/>\n      </g>\n     </g>\n     <g id=\"text_1\">\n      <!-- 0 -->\n      <defs>\n       <path d=\"M 31.78125 66.40625 \nQ 24.171875 66.40625 20.328125 58.90625 \nQ 16.5 51.421875 16.5 36.375 \nQ 16.5 21.390625 20.328125 13.890625 \nQ 24.171875 6.390625 31.78125 6.390625 \nQ 39.453125 6.390625 43.28125 13.890625 \nQ 47.125 21.390625 47.125 36.375 \nQ 47.125 51.421875 43.28125 58.90625 \nQ 39.453125 66.40625 31.78125 66.40625 \nz\nM 31.78125 74.21875 \nQ 44.046875 74.21875 50.515625 64.515625 \nQ 56.984375 54.828125 56.984375 36.375 \nQ 56.984375 17.96875 50.515625 8.265625 \nQ 44.046875 -1.421875 31.78125 -1.421875 \nQ 19.53125 -1.421875 13.0625 8.265625 \nQ 6.59375 17.96875 6.59375 36.375 \nQ 6.59375 54.828125 13.0625 64.515625 \nQ 19.53125 74.21875 31.78125 74.21875 \nz\n\" id=\"DejaVuSans-48\"/>\n      </defs>\n      <g transform=\"translate(27.626607 239.238437)scale(0.1 -0.1)\">\n       <use xlink:href=\"#DejaVuSans-48\"/>\n      </g>\n     </g>\n    </g>\n    <g id=\"xtick_2\">\n     <g id=\"line2d_2\">\n      <g>\n       <use style=\"stroke:#000000;stroke-width:0.8;\" x=\"69.636429\" xlink:href=\"#m0512224108\" y=\"224.64\"/>\n      </g>\n     </g>\n     <g id=\"text_2\">\n      <!-- 5 -->\n      <defs>\n       <path d=\"M 10.796875 72.90625 \nL 49.515625 72.90625 \nL 49.515625 64.59375 \nL 19.828125 64.59375 \nL 19.828125 46.734375 \nQ 21.96875 47.46875 24.109375 47.828125 \nQ 26.265625 48.1875 28.421875 48.1875 \nQ 40.625 48.1875 47.75 41.5 \nQ 54.890625 34.8125 54.890625 23.390625 \nQ 54.890625 11.625 47.5625 5.09375 \nQ 40.234375 -1.421875 26.90625 -1.421875 \nQ 22.3125 -1.421875 17.546875 -0.640625 \nQ 12.796875 0.140625 7.71875 1.703125 \nL 7.71875 11.625 \nQ 12.109375 9.234375 16.796875 8.0625 \nQ 21.484375 6.890625 26.703125 6.890625 \nQ 35.15625 6.890625 40.078125 11.328125 \nQ 45.015625 15.765625 45.015625 23.390625 \nQ 45.015625 31 40.078125 35.4375 \nQ 35.15625 39.890625 26.703125 39.890625 \nQ 22.75 39.890625 18.8125 39.015625 \nQ 14.890625 38.140625 10.796875 36.28125 \nz\n\" id=\"DejaVuSans-53\"/>\n      </defs>\n      <g transform=\"translate(66.455179 239.238437)scale(0.1 -0.1)\">\n       <use xlink:href=\"#DejaVuSans-53\"/>\n      </g>\n     </g>\n    </g>\n    <g id=\"xtick_3\">\n     <g id=\"line2d_3\">\n      <g>\n       <use style=\"stroke:#000000;stroke-width:0.8;\" x=\"108.465\" xlink:href=\"#m0512224108\" y=\"224.64\"/>\n      </g>\n     </g>\n     <g id=\"text_3\">\n      <!-- 10 -->\n      <defs>\n       <path d=\"M 12.40625 8.296875 \nL 28.515625 8.296875 \nL 28.515625 63.921875 \nL 10.984375 60.40625 \nL 10.984375 69.390625 \nL 28.421875 72.90625 \nL 38.28125 72.90625 \nL 38.28125 8.296875 \nL 54.390625 8.296875 \nL 54.390625 0 \nL 12.40625 0 \nz\n\" id=\"DejaVuSans-49\"/>\n      </defs>\n      <g transform=\"translate(102.1025 239.238437)scale(0.1 -0.1)\">\n       <use xlink:href=\"#DejaVuSans-49\"/>\n       <use x=\"63.623047\" xlink:href=\"#DejaVuSans-48\"/>\n      </g>\n     </g>\n    </g>\n    <g id=\"xtick_4\">\n     <g id=\"line2d_4\">\n      <g>\n       <use style=\"stroke:#000000;stroke-width:0.8;\" x=\"147.293571\" xlink:href=\"#m0512224108\" y=\"224.64\"/>\n      </g>\n     </g>\n     <g id=\"text_4\">\n      <!-- 15 -->\n      <g transform=\"translate(140.931071 239.238437)scale(0.1 -0.1)\">\n       <use xlink:href=\"#DejaVuSans-49\"/>\n       <use x=\"63.623047\" xlink:href=\"#DejaVuSans-53\"/>\n      </g>\n     </g>\n    </g>\n    <g id=\"xtick_5\">\n     <g id=\"line2d_5\">\n      <g>\n       <use style=\"stroke:#000000;stroke-width:0.8;\" x=\"186.122143\" xlink:href=\"#m0512224108\" y=\"224.64\"/>\n      </g>\n     </g>\n     <g id=\"text_5\">\n      <!-- 20 -->\n      <defs>\n       <path d=\"M 19.1875 8.296875 \nL 53.609375 8.296875 \nL 53.609375 0 \nL 7.328125 0 \nL 7.328125 8.296875 \nQ 12.9375 14.109375 22.625 23.890625 \nQ 32.328125 33.6875 34.8125 36.53125 \nQ 39.546875 41.84375 41.421875 45.53125 \nQ 43.3125 49.21875 43.3125 52.78125 \nQ 43.3125 58.59375 39.234375 62.25 \nQ 35.15625 65.921875 28.609375 65.921875 \nQ 23.96875 65.921875 18.8125 64.3125 \nQ 13.671875 62.703125 7.8125 59.421875 \nL 7.8125 69.390625 \nQ 13.765625 71.78125 18.9375 73 \nQ 24.125 74.21875 28.421875 74.21875 \nQ 39.75 74.21875 46.484375 68.546875 \nQ 53.21875 62.890625 53.21875 53.421875 \nQ 53.21875 48.921875 51.53125 44.890625 \nQ 49.859375 40.875 45.40625 35.40625 \nQ 44.1875 33.984375 37.640625 27.21875 \nQ 31.109375 20.453125 19.1875 8.296875 \nz\n\" id=\"DejaVuSans-50\"/>\n      </defs>\n      <g transform=\"translate(179.759643 239.238437)scale(0.1 -0.1)\">\n       <use xlink:href=\"#DejaVuSans-50\"/>\n       <use x=\"63.623047\" xlink:href=\"#DejaVuSans-48\"/>\n      </g>\n     </g>\n    </g>\n    <g id=\"xtick_6\">\n     <g id=\"line2d_6\">\n      <g>\n       <use style=\"stroke:#000000;stroke-width:0.8;\" x=\"224.950714\" xlink:href=\"#m0512224108\" y=\"224.64\"/>\n      </g>\n     </g>\n     <g id=\"text_6\">\n      <!-- 25 -->\n      <g transform=\"translate(218.588214 239.238437)scale(0.1 -0.1)\">\n       <use xlink:href=\"#DejaVuSans-50\"/>\n       <use x=\"63.623047\" xlink:href=\"#DejaVuSans-53\"/>\n      </g>\n     </g>\n    </g>\n   </g>\n   <g id=\"matplotlib.axis_2\">\n    <g id=\"ytick_1\">\n     <g id=\"line2d_7\">\n      <defs>\n       <path d=\"M 0 0 \nL -3.5 0 \n\" id=\"m82c04fdab7\" style=\"stroke:#000000;stroke-width:0.8;\"/>\n      </defs>\n      <g>\n       <use style=\"stroke:#000000;stroke-width:0.8;\" x=\"26.925\" xlink:href=\"#m82c04fdab7\" y=\"11.082857\"/>\n      </g>\n     </g>\n     <g id=\"text_7\">\n      <!-- 0 -->\n      <g transform=\"translate(13.5625 14.882076)scale(0.1 -0.1)\">\n       <use xlink:href=\"#DejaVuSans-48\"/>\n      </g>\n     </g>\n    </g>\n    <g id=\"ytick_2\">\n     <g id=\"line2d_8\">\n      <g>\n       <use style=\"stroke:#000000;stroke-width:0.8;\" x=\"26.925\" xlink:href=\"#m82c04fdab7\" y=\"49.911429\"/>\n      </g>\n     </g>\n     <g id=\"text_8\">\n      <!-- 5 -->\n      <g transform=\"translate(13.5625 53.710647)scale(0.1 -0.1)\">\n       <use xlink:href=\"#DejaVuSans-53\"/>\n      </g>\n     </g>\n    </g>\n    <g id=\"ytick_3\">\n     <g id=\"line2d_9\">\n      <g>\n       <use style=\"stroke:#000000;stroke-width:0.8;\" x=\"26.925\" xlink:href=\"#m82c04fdab7\" y=\"88.74\"/>\n      </g>\n     </g>\n     <g id=\"text_9\">\n      <!-- 10 -->\n      <g transform=\"translate(7.2 92.539219)scale(0.1 -0.1)\">\n       <use xlink:href=\"#DejaVuSans-49\"/>\n       <use x=\"63.623047\" xlink:href=\"#DejaVuSans-48\"/>\n      </g>\n     </g>\n    </g>\n    <g id=\"ytick_4\">\n     <g id=\"line2d_10\">\n      <g>\n       <use style=\"stroke:#000000;stroke-width:0.8;\" x=\"26.925\" xlink:href=\"#m82c04fdab7\" y=\"127.568571\"/>\n      </g>\n     </g>\n     <g id=\"text_10\">\n      <!-- 15 -->\n      <g transform=\"translate(7.2 131.36779)scale(0.1 -0.1)\">\n       <use xlink:href=\"#DejaVuSans-49\"/>\n       <use x=\"63.623047\" xlink:href=\"#DejaVuSans-53\"/>\n      </g>\n     </g>\n    </g>\n    <g id=\"ytick_5\">\n     <g id=\"line2d_11\">\n      <g>\n       <use style=\"stroke:#000000;stroke-width:0.8;\" x=\"26.925\" xlink:href=\"#m82c04fdab7\" y=\"166.397143\"/>\n      </g>\n     </g>\n     <g id=\"text_11\">\n      <!-- 20 -->\n      <g transform=\"translate(7.2 170.196362)scale(0.1 -0.1)\">\n       <use xlink:href=\"#DejaVuSans-50\"/>\n       <use x=\"63.623047\" xlink:href=\"#DejaVuSans-48\"/>\n      </g>\n     </g>\n    </g>\n    <g id=\"ytick_6\">\n     <g id=\"line2d_12\">\n      <g>\n       <use style=\"stroke:#000000;stroke-width:0.8;\" x=\"26.925\" xlink:href=\"#m82c04fdab7\" y=\"205.225714\"/>\n      </g>\n     </g>\n     <g id=\"text_12\">\n      <!-- 25 -->\n      <g transform=\"translate(7.2 209.024933)scale(0.1 -0.1)\">\n       <use xlink:href=\"#DejaVuSans-50\"/>\n       <use x=\"63.623047\" xlink:href=\"#DejaVuSans-53\"/>\n      </g>\n     </g>\n    </g>\n   </g>\n   <g id=\"patch_3\">\n    <path d=\"M 26.925 224.64 \nL 26.925 7.2 \n\" style=\"fill:none;stroke:#000000;stroke-linecap:square;stroke-linejoin:miter;stroke-width:0.8;\"/>\n   </g>\n   <g id=\"patch_4\">\n    <path d=\"M 244.365 224.64 \nL 244.365 7.2 \n\" style=\"fill:none;stroke:#000000;stroke-linecap:square;stroke-linejoin:miter;stroke-width:0.8;\"/>\n   </g>\n   <g id=\"patch_5\">\n    <path d=\"M 26.925 224.64 \nL 244.365 224.64 \n\" style=\"fill:none;stroke:#000000;stroke-linecap:square;stroke-linejoin:miter;stroke-width:0.8;\"/>\n   </g>\n   <g id=\"patch_6\">\n    <path d=\"M 26.925 7.2 \nL 244.365 7.2 \n\" style=\"fill:none;stroke:#000000;stroke-linecap:square;stroke-linejoin:miter;stroke-width:0.8;\"/>\n   </g>\n  </g>\n </g>\n <defs>\n  <clipPath id=\"pb1e084bdec\">\n   <rect height=\"217.44\" width=\"217.44\" x=\"26.925\" y=\"7.2\"/>\n  </clipPath>\n </defs>\n</svg>\n",
      "image/png": "[encoded data removed]"
     },
     "metadata": {
      "needs_background": "light"
     }
    }
   ],
   "source": [
    "import matplotlib.pyplot as plt\n",
    "from matplotlib.pyplot import imshow\n",
    "\n",
    "number = 1000\n",
    "ele = train_dataset.take(number)\n",
    "ele2 = next(iter(ele)).numpy()[0].reshape(28,28)\n",
    "reconstructs = vae2(next(iter(ele)))\n",
    "reconstructed_example = reconstructs.numpy()[0].reshape(28,28)\n",
    "imshow(ele2.reshape(28,28))\n",
    "plt.show()\n",
    "imshow(reconstructed_example)\n",
    "plt.show()\n",
    "\n",
    ""
   ]
  },
  {
   "cell_type": "code",
   "execution_count": null,
   "metadata": {},
   "outputs": [],
   "source": []
  },
  {
   "cell_type": "code",
   "execution_count": null,
   "metadata": {},
   "outputs": [],
   "source": []
  }
 ]
}